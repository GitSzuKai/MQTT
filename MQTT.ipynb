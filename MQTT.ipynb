{
 "cells": [
  {
   "cell_type": "markdown",
   "metadata": {},
   "source": [
    "# MQTT"
   ]
  },
  {
   "attachments": {},
   "cell_type": "markdown",
   "metadata": {},
   "source": [
    "## So What is MQTT?\n",
    "    1999年由 Dr Andy Standford-Clark 和 Dr.Arlen Nipper 發明的通訊協議。當時開發的目的是為了可以在小頻寬和微小店裡損耗的情況下提供輕量，可靠的通訊協定。\n",
    "    MQTT是一種基於「發布∕訂閱」機制的訊息傳輸協定\n",
    "    代理人（broker）是個伺服器軟體，向伺服器發送主題的一方是發布者（publisher），從伺服器獲取主題的一方則是訂閱者（subscriber）\n",
    "    「訂閱者」需要告知代理人想要訂閱的主題，每當「發布者」傳入新訊息時，代理人就會依照主題，傳送給所有訂閱者。\n",
    "    「發布者」和「訂閱者」都是用戶端，代理人是伺服器。由於兩個用戶端之間有伺服器當作中繼站，所以兩邊並不需要知道彼此的IP位址。\n",
    "    \n",
    "    更多資訊可參訪https://swf.com.tw/?p=1002"
   ]
  },
  {
   "cell_type": "markdown",
   "metadata": {},
   "source": [
    "測試環境\n",
    "Mac OS 10.13.5\n",
    "使用的是Eclipse Mosquitto 的broker https://mosquitto.org (支援Windows, Mac, Linux, Raspberry Pi, iPhone)\n",
    "Library: eclipse/paho.mqtt.c https://github.com/eclipse/paho.mqtt.c\n",
    "Compiler: GCC\n",
    "\n",
    "Library function 請參考：\n",
    "https://www.eclipse.org/paho/files/mqttdoc/MQTTClient/html/_m_q_t_t_client_8h.html#ab0d69ca03e618ccff0f175c3862d009b\n"
   ]
  },
  {
   "cell_type": "markdown",
   "metadata": {},
   "source": [
    "1. 在下載的library 檔案輸入以下指令\n",
    "    make\n",
    "    sudo make install\n",
    "2. 成功后應該會產生一個檔案build\n",
    "3. 請把 build/output 裡的所有 .so 檔案複製到/usr/local/lib\n",
    "4. 編譯請用 gcc -L/home/<USERNAME>/DIRECTORY TO DOWNLOAD LIBARY/build/output YOUR_FILE.c -lpaho-mqtt3c\n",
    "    \n",
    "    https://github.com/eclipse/paho.mqtt.cpp/issues/1 (Jason-Gew)\n",
    "    https://stackoverflow.com/questions/32005906/example-mqtt-client-code-not-working-c"
   ]
  },
  {
   "cell_type": "markdown",
   "metadata": {},
   "source": [
    "## Broker connection"
   ]
  },
  {
   "cell_type": "code",
   "execution_count": null,
   "metadata": {},
   "outputs": [],
   "source": [
    "#include \"MQTTClient.h\"\n",
    "#include <stdio.h>\n",
    "#include <stdlib.h>\n",
    "\n",
    "int main(){\n",
    "    \n",
    "    MQTTClient client;\n",
    "\tMQTTClient_connectOptions conn_opts = MQTTClient_connectOptions_initializer;\n",
    "    \n",
    "    /* Connection parameters */\n",
    "\tMQTTClient_create(&client, \"tcp://localhost:1883\", \"A\", MQTTCLIENT_PERSISTENCE_NONE, NULL); //\"A\" 是連線的名字\n",
    "    \n",
    "    int rc;\n",
    "    int ch;\n",
    "    \n",
    "\t/* Connect to MQTT Server */\n",
    "    //MQTTClient_connect 會回傳一個值\n",
    "\tif ((rc = MQTTClient_connect(client, &conn_opts)) != MQTTCLIENT_SUCCESS){\n",
    "\t\tprintf(\"Failed\\n\");\n",
    "\t} else{\n",
    "\t\tprintf(\"Connected\\n\");\n",
    "\t}\n",
    "    \n",
    "    //Wait Until q or Q is entered\n",
    "    do \n",
    "    {\n",
    "        ch = getchar();\n",
    "    } while(ch!='Q' && ch != 'q');\n",
    "    \n",
    "    \n",
    "    //結束連線\n",
    "    MQTTClient_disconnect(client, 10000);\n",
    "    //清理client object\n",
    "    MQTTClient_destroy(&client);\n",
    "    return 0;\n",
    "}"
   ]
  },
  {
   "cell_type": "markdown",
   "metadata": {},
   "source": [
    "## Subscribe"
   ]
  },
  {
   "cell_type": "code",
   "execution_count": 3,
   "metadata": {},
   "outputs": [
    {
     "name": "stderr",
     "output_type": "stream",
     "text": [
      "/var/folders/vl/ft745s41159cd8cs68h2tfdr0000gn/T/tmp50tqy_7y.c:4:11: error: expected function body after function declarator\n",
      "int main()\n",
      "          ^\n",
      "1 error generated.\n",
      "[C kernel] GCC exited with code 1, the executable will not be executed"
     ]
    }
   ],
   "source": [
    "#include \"MQTTClient.h\"\n",
    "#include <stdio.h>\n",
    "#include <stdlib.h>\n",
    "\n",
    "int msgarrvd(void *context, char *topicName, int topicLen, MQTTClient_message *message){\n",
    " \t\n",
    " \tint i;\n",
    "    char* payloadptr;\n",
    "\n",
    "    printf(\"Message arrived\\n\");\n",
    "    printf(\"     topic: %s\\n\", topicName);\n",
    "    printf(\"   message: \");\n",
    "\n",
    "    payloadptr = message->payload;\n",
    "    for(i=0; i<message->payloadlen; i++)\n",
    "    {\n",
    "        putchar(*payloadptr++);\n",
    "    }\n",
    "    putchar('\\n');\n",
    "\n",
    "    //需要把memory free 掉。Note 兩個free function 都需使用\n",
    "    MQTTClient_freeMessage(&message);\n",
    "    MQTTClient_free(topicName);\n",
    "    return 1;\n",
    "}\n",
    "\n",
    "int main(){\n",
    "\n",
    "    ...\n",
    "\n",
    "\t//設置觸發function 要在connect前設置\n",
    "    //后三個parameter可設置callback分別為connectionlost, msgarrived, delivered\n",
    "\tMQTTClient_setCallbacks(client, NULL, NULL, msgarrvd, NULL);\n",
    "\n",
    "\tint rc;\n",
    "\tint ch;\n",
    "\n",
    "\t/* Connect to MQTT Server */\n",
    "\tif ((rc = MQTTClient_connect(client, &conn_opts)) != MQTTCLIENT_SUCCESS){\n",
    "\t\tprintf(\"Failed\\n\");\n",
    "\t} else{\n",
    "\t\tprintf(\"Connected\\n\");\n",
    "\t}\n",
    "\n",
    "\tMQTTClient_subscribe(client, \"/example\", 1);\n",
    "\tprintf(\"Successfully Subscribed to the topic\\n\");\n",
    "\n",
    "\t do \n",
    "    {\n",
    "        ch = getchar();\n",
    "    } while(ch!='Q' && ch != 'q');\n",
    "\n",
    "    //結束連線\n",
    "    MQTTClient_disconnect(client, 10000);\n",
    "    //清理client object\n",
    "    MQTTClient_destroy(&client);\n",
    "\treturn rc;\n",
    "}\n"
   ]
  },
  {
   "cell_type": "markdown",
   "metadata": {},
   "source": [
    "## Publish"
   ]
  },
  {
   "cell_type": "code",
   "execution_count": null,
   "metadata": {},
   "outputs": [],
   "source": []
  }
 ],
 "metadata": {
  "kernelspec": {
   "display_name": "C",
   "language": "c",
   "name": "c"
  },
  "language_info": {
   "file_extension": ".c",
   "mimetype": "text/plain",
   "name": "c"
  }
 },
 "nbformat": 4,
 "nbformat_minor": 2
}
